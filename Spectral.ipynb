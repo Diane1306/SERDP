{
 "cells": [
  {
   "cell_type": "code",
   "execution_count": 2,
   "metadata": {},
   "outputs": [],
   "source": [
    "import pandas as pd\n",
    "import numpy as np\n",
    "import os\n",
    "import matplotlib.pyplot as plt\n",
    "from scipy import signal\n",
    "from spectrum import FourierSpectrum\n",
    "from astropy.timeseries import LombScargle"
   ]
  },
  {
   "cell_type": "code",
   "execution_count": 2,
   "metadata": {},
   "outputs": [],
   "source": [
    "DIR = './data/PeriodMean/20m'\n",
    "fna = [name for name in os.listdir(DIR)]\n",
    "fna.sort()\n",
    "fno = len(fna)\n",
    "tower = ['East', 'Flux', 'North', 'South', 'West']\n",
    "\n",
    "ww20 = []\n",
    "tt20 = []\n",
    "Sweep20 = []\n",
    "Ejection20 = []\n",
    "Outward20 = []\n",
    "Inward20 = []\n",
    "CumSec20 = []\n",
    "\n",
    "for fi in range(5):\n",
    "    xls = pd.ExcelFile(f'./data/PeriodMean/20m/{fna[fi]}')\n",
    "    df_pre = pd.read_excel(xls, 'Pre-FFP')\n",
    "    df_dur = pd.read_excel(xls, 'FFP')\n",
    "    df_post = pd.read_excel(xls, 'Post-FFP')\n",
    "\n",
    "    df = [df_pre, df_dur, df_post]\n",
    "    for di in range(3):\n",
    "        ww20.append(df[di][\"w' (m/s)\"].dropna())\n",
    "        tt20.append(df[di][\"t' (C)\"].dropna())\n",
    "        Sweep20.append(df[di][\"w't' (Sweep)\"].dropna())\n",
    "        Ejection20.append(df[di][\"w't' (Ejection)\"].dropna())\n",
    "        Outward20.append(df[di][\"w't' (Out Int)\"].dropna())\n",
    "        Inward20.append(df[di][\"w't' (In Int)\"].dropna())\n",
    "        CumSec20.append(df[di].iloc[:, 0].dropna())"
   ]
  },
  {
   "cell_type": "code",
   "execution_count": 3,
   "metadata": {},
   "outputs": [],
   "source": [
    "DIR = './data/PeriodMean/3m'\n",
    "fna = [name for name in os.listdir(DIR)]\n",
    "fna.sort()\n",
    "fno = len(fna)\n",
    "tower = ['East', 'Flux', 'North', 'South', 'West']\n",
    "\n",
    "ww3 = []\n",
    "tt3 = []\n",
    "Sweep3 = []\n",
    "Ejection3 = []\n",
    "Outward3 = []\n",
    "Inward3 = []\n",
    "CumSec3 = []\n",
    "for fi in range(5):\n",
    "    xls = pd.ExcelFile(f'./data/PeriodMean/3m/{fna[fi]}')\n",
    "    df_pre = pd.read_excel(xls, 'Pre-FFP')\n",
    "    df_dur = pd.read_excel(xls, 'FFP')\n",
    "    df_post = pd.read_excel(xls, 'Post-FFP')\n",
    "\n",
    "    df = [df_pre, df_dur, df_post]\n",
    "    for di in range(3):\n",
    "        ww3.append(df[di][\"w' (m/s)\"].dropna())\n",
    "        tt3.append(df[di][\"t' (C)\"].dropna())\n",
    "        Sweep3.append(df[di][\"w't' (Sweep)\"].dropna())\n",
    "        Ejection3.append(df[di][\"w't' (Ejection)\"].dropna())\n",
    "        Outward3.append(df[di][\"w't' (Out Int)\"].dropna())\n",
    "        Inward3.append(df[di][\"w't' (In Int)\"].dropna())\n",
    "        CumSec3.append(df[di].iloc[:, 0].dropna())"
   ]
  },
  {
   "cell_type": "code",
   "execution_count": 4,
   "metadata": {},
   "outputs": [],
   "source": [
    "DIR = './data/PeriodMean/10m'\n",
    "fna = [name for name in os.listdir(DIR)]\n",
    "fna.sort()\n",
    "fno = len(fna)\n",
    "tower = ['East', 'Flux', 'North', 'West']\n",
    "\n",
    "ww10 = []\n",
    "tt10 = []\n",
    "Sweep10 = []\n",
    "Ejection10 = []\n",
    "Outward10 = []\n",
    "Inward10 = []\n",
    "CumSec10 = []\n",
    "for fi in range(4):\n",
    "    xls = pd.ExcelFile(f'./data/PeriodMean/10m/{fna[fi]}')\n",
    "    df_pre = pd.read_excel(xls, 'Pre-FFP')\n",
    "    df_dur = pd.read_excel(xls, 'FFP')\n",
    "    df_post = pd.read_excel(xls, 'Post-FFP')\n",
    "\n",
    "    df = [df_pre, df_dur, df_post]\n",
    "    for di in range(3):\n",
    "        ww10.append(df[di][\"w' (m/s)\"].dropna())\n",
    "        tt10.append(df[di][\"t' (C)\"].dropna())\n",
    "        Sweep10.append(df[di][\"w't' (Sweep)\"].dropna())\n",
    "        Ejection10.append(df[di][\"w't' (Ejection)\"].dropna())\n",
    "        Outward10.append(df[di][\"w't' (Out Int)\"].dropna())\n",
    "        Inward10.append(df[di][\"w't' (In Int)\"].dropna())\n",
    "        CumSec10.append(df[di].iloc[:, 0].dropna())"
   ]
  },
  {
   "cell_type": "code",
   "execution_count": 37,
   "metadata": {},
   "outputs": [],
   "source": [
    "# heat flux total\n",
    "heat_tot3 = [Sweep3[i].values + Ejection3[i].values + Inward3[i].values + Outward3[i].values for i in range(15)]\n",
    "heat_tot10 = [Sweep10[i].values + Ejection10[i].values + Inward10[i].values + Outward10[i].values for i in range(12)]\n",
    "heat_tot20 = [Sweep20[i].values + Ejection20[i].values + Inward20[i].values + Outward20[i].values for i in range(15)]"
   ]
  },
  {
   "cell_type": "code",
   "execution_count": 20,
   "metadata": {},
   "outputs": [],
   "source": [
    "def spectrum1(h, dt):\n",
    "    \"\"\"\n",
    "    First cut at spectral estimation: very crude.\n",
    "    \n",
    "    Returns frequencies, power spectrum, and\n",
    "    power spectral density.\n",
    "    Only positive frequencies between (and not including)\n",
    "    zero and the Nyquist are output.\n",
    "    \"\"\"\n",
    "    nt = len(h)\n",
    "    npositive = nt//2\n",
    "    pslice = slice(1, npositive)\n",
    "    freqs = np.fft.fftfreq(nt, d=dt)[pslice] \n",
    "    ft = np.fft.fft(h)[pslice]\n",
    "    psraw = np.abs(ft) ** 2\n",
    "    # Double to account for the energy in the negative frequencies.\n",
    "    psraw *= 2\n",
    "    # Normalization for Power Spectrum\n",
    "    psraw /= nt**2\n",
    "    # Convert PS to Power Spectral Density\n",
    "    psdraw = psraw * nt  # nt * dt is record length\n",
    "    return freqs, psraw, psdraw"
   ]
  },
  {
   "cell_type": "code",
   "execution_count": 18,
   "metadata": {},
   "outputs": [],
   "source": [
    "freq = np.linspace(0, 5, 9001)[1:]\n",
    "smoothlen = 46\n",
    "def plot(ax, yr, time, data, color):\n",
    "    power = LombScargle(time, data, normalization='psd').power(freq)\n",
    "\n",
    "#     psdtemp = np.zeros(smoothlen)\n",
    "#     for si in range(smoothlen):\n",
    "#         psdtemp[si] = power[smoonthloc[si]:smoonthloc[si+1]].mean()\n",
    "#     ax.loglog(FreqSmooth, psdtemp, color, lw=1)\n",
    "#     ax.semilogx(freq, power, color, lw=1) \n",
    "    ax.loglog(freq, power, color, lw=1)\n",
    "    ax.set_ylim(0.001, yr)\n",
    "    ax.set_xlim(.001, 1)\n",
    "    ax.legend(['Pre-FFP', 'FFP', 'Post-FFP'], fontsize='large')\n",
    "    \n",
    "fig, axs = plt.subplots(5, 3, figsize=(15, 25))\n",
    "tower = ['East', 'Flux', 'North', 'South', 'West']\n",
    "Outward = [Outward3, Outward10, Outward20]\n",
    "CumSec = [CumSec3, CumSec10, CumSec20]\n",
    "title = ['Outward']\n",
    "yr = 200\n",
    "\n",
    "for ti in range(5):\n",
    "    for hi in range(3):\n",
    "        ax = plt.subplot(5,3,ti*3+hi+1)\n",
    "        if (hi==1) and (ti==4):\n",
    "#             plot(ax, yr, np.where(abs(Outward[hi][(ti-1)*3+0])>0.000001, 1, 0), 'lime') \n",
    "#             plot(ax, yr, np.where(abs(Outward[hi][(ti-1)*3+1])>0.000001, 1, 0), 'r') \n",
    "#             plot(ax, yr, np.where(abs(Outward[hi][(ti-1)*3+2])>0.000001, 1, 0), 'k')\n",
    "            plot(ax, yr, CumSec[hi][(ti-1)*3+0], Outward[hi][(ti-1)*3+0], 'lime') \n",
    "            plot(ax, yr, CumSec[hi][(ti-1)*3+1], Outward[hi][(ti-1)*3+1], 'r') \n",
    "            plot(ax, yr, CumSec[hi][(ti-1)*3+2], Outward[hi][(ti-1)*3+2], 'k')\n",
    "        elif (hi==1) and (ti==3):\n",
    "            plot(ax, yr, np.nan*CumSec[hi][(ti-1)*3+0], np.nan*Outward[hi][(ti-1)*3+0], 'k')\n",
    "        else:\n",
    "#             plot(ax, yr, np.where(abs(Outward[hi][ti*3+0])>0.000001, 1, 0), 'lime') \n",
    "#             plot(ax, yr, np.where(abs(Outward[hi][ti*3+1])>0.000001, 1, 0), 'r') \n",
    "#             plot(ax, yr, np.where(abs(Outward[hi][ti*3+2])>0.000001, 1, 0), 'k')\n",
    "            plot(ax, yr, CumSec[hi][ti*3+0], Outward[hi][ti*3+0], 'lime') \n",
    "            plot(ax, yr, CumSec[hi][ti*3+1], Outward[hi][ti*3+1], 'r') \n",
    "            plot(ax, yr, CumSec[hi][ti*3+2], Outward[hi][ti*3+2], 'k')\n",
    "        \n",
    "        if hi == 0:\n",
    "            ax.set_ylabel('Power Spectral Density', fontsize='large', fontweight='bold')\n",
    "        if ti == 4:\n",
    "            ax.set_xlabel('Frequency', fontsize='large', fontweight='bold')\n",
    "                    \n",
    "        if ti == 0:\n",
    "            if hi == 0:\n",
    "                plt.text(.5, 1.03, '3m', fontsize='large', fontweight='bold', ha='center', va='center', transform=ax.transAxes)\n",
    "            elif hi == 1:\n",
    "                plt.text(.5, 1.03, '10m', fontsize='large', fontweight='bold', ha='center', va='center', transform=ax.transAxes)\n",
    "            elif hi == 2:\n",
    "                plt.text(.5, 1.03, '20m', fontsize='large', fontweight='bold', ha='center', va='center', transform=ax.transAxes)\n",
    "        if hi == 2:\n",
    "            plt.text(1.05, .9, tower[ti], fontsize='large', fontweight='bold', ha='center', va='center', transform=ax.transAxes)\n",
    "\n",
    "plt.subplots_adjust(top = 1, bottom = 0, right = 1, left = 0, hspace = .1, wspace = .1)\n",
    "# plt.suptitle(f\"Power Spectrum Density of {title[0]} Occurrences\", fontsize=15, fontweight='bold', x=.5, y=1.02)\n",
    "# plt.savefig(f'./plot/paper/spectral/PSD_Occur_{title[0]}.png', bbox_inches='tight')\n",
    "plt.suptitle(f\"Power Spectrum Density of {title[0]}\", fontsize=15, fontweight='bold', x=.5, y=1.02)\n",
    "plt.savefig(f'./plot/paper/spectral/PSD_Value_{title[0]}_loglog.png', bbox_inches='tight')\n",
    "plt.close()"
   ]
  },
  {
   "cell_type": "code",
   "execution_count": 6,
   "metadata": {},
   "outputs": [],
   "source": [
    "df = pd.read_table('./data/FreqForSmooth.txt', delim_whitespace=True, names=('period', 'ps', 'freq', 'cumps', 'sump', 'cumsump', 'index'))\n",
    "FreqSmooth = df['freq']\n",
    "smoonthloc = [0]\n",
    "smoonthloc.extend(df['cumsump'])\n",
    "smoothlen = len(FreqSmooth)"
   ]
  },
  {
   "cell_type": "code",
   "execution_count": 7,
   "metadata": {},
   "outputs": [],
   "source": [
    "# define function to calculate the slope of -5/3\n",
    "from scipy import stats\n",
    "def calc_slope1(psd):\n",
    "    psdsmoonthed = np.zeros(smoothlen)\n",
    "    for si in range(smoothlen):\n",
    "        psdsmoonthed[si] = psd[smoonthloc[si]:smoonthloc[si+1]].mean()\n",
    "    r = stats.linregress(np.log(FreqSmooth[28:-4]), np.log(psdsmoonthed[28:-4]))\n",
    "    return r.slope"
   ]
  },
  {
   "cell_type": "code",
   "execution_count": 21,
   "metadata": {},
   "outputs": [],
   "source": [
    "freq = np.linspace(0, 5, 9001)[1:]\n",
    "slope = np.zeros(9)\n",
    "psd3_pre = 0\n",
    "psd3_ffp = 0\n",
    "psd3_pos = 0\n",
    "for ti in range(5):\n",
    "    psdtemp = LombScargle(CumSec3[ti*3+0], heat_tot3[0+3*ti], normalization='psd').power(freq)\n",
    "    psd3_pre += psdtemp\n",
    "    slope[0] += calc_slope1(psdtemp)\n",
    "    psdtemp = LombScargle(CumSec3[ti*3+1], heat_tot3[1+3*ti], normalization='psd').power(freq)\n",
    "    psd3_ffp += psdtemp\n",
    "    slope[1] += calc_slope1(psdtemp)\n",
    "    psdtemp = LombScargle(CumSec3[ti*3+2], heat_tot3[2+3*ti], normalization='psd').power(freq)\n",
    "    psd3_pos += psdtemp\n",
    "    slope[2] += calc_slope1(psdtemp)\n",
    "psd3_pre = psd3_pre/5.\n",
    "psd3_ffp = psd3_ffp/5.\n",
    "psd3_pos = psd3_pos/5.\n",
    "slope[0] = slope[0]/5.\n",
    "slope[1] = slope[1]/5.\n",
    "slope[2] = slope[2]/5.\n",
    "\n",
    "psd10_pre = 0\n",
    "psd10_ffp = 0\n",
    "psd10_pos = 0\n",
    "for ti in range(4):\n",
    "    psdtemp = LombScargle(CumSec10[ti*3+0], heat_tot10[0+3*ti], normalization='psd').power(freq)\n",
    "    psd10_pre += psdtemp\n",
    "    slope[3] += calc_slope1(psdtemp)\n",
    "    psdtemp = LombScargle(CumSec10[ti*3+1], heat_tot10[1+3*ti], normalization='psd').power(freq)\n",
    "    psd10_ffp += psdtemp\n",
    "    slope[4] += calc_slope1(psdtemp)\n",
    "    psdtemp = LombScargle(CumSec10[ti*3+2], heat_tot10[2+3*ti], normalization='psd').power(freq)\n",
    "    psd10_pos += psdtemp\n",
    "    slope[5] += calc_slope1(psdtemp)\n",
    "psd10_pre = psd10_pre/4.\n",
    "psd10_ffp = psd10_ffp/4.\n",
    "psd10_pos = psd10_pos/4.\n",
    "slope[3] = slope[3]/4.\n",
    "slope[4] = slope[4]/4.\n",
    "slope[5] = slope[5]/4.\n",
    "\n",
    "psd20_pre = 0\n",
    "psd20_ffp = 0\n",
    "psd20_pos = 0\n",
    "for ti in range(5):\n",
    "    psdtemp = LombScargle(CumSec20[ti*3+0], heat_tot20[0+3*ti], normalization='psd').power(freq)\n",
    "    psd20_pre += psdtemp\n",
    "    slope[6] += calc_slope1(psdtemp)\n",
    "    psdtemp = LombScargle(CumSec20[ti*3+1], heat_tot20[1+3*ti], normalization='psd').power(freq)\n",
    "    psd20_ffp += psdtemp\n",
    "    slope[7] += calc_slope1(psdtemp)\n",
    "    psdtemp = LombScargle(CumSec20[ti*3+2], heat_tot20[2+3*ti], normalization='psd').power(freq)\n",
    "    psd20_pos += psdtemp\n",
    "    slope[8] += calc_slope1(psdtemp)\n",
    "psd20_pre = psd20_pre/5.\n",
    "psd20_ffp = psd20_ffp/5.\n",
    "psd20_pos = psd20_pos/5.\n",
    "slope[6] = slope[6]/5.\n",
    "slope[7] = slope[7]/5.\n",
    "slope[8] = slope[8]/5.\n",
    "\n",
    "variance = [np.nansum(psd3_pre),np.nansum(psd3_ffp),np.nansum(psd3_pos),np.nansum(psd10_pre),np.nansum(psd10_ffp),\n",
    "            np.nansum(psd10_pos),np.nansum(psd20_pre),np.nansum(psd20_ffp),np.nansum(psd20_pos)]\n",
    "\n",
    "psd = [psd3_pre, psd3_ffp, psd3_pos, psd10_pre, psd10_ffp, psd10_pos, psd20_pre, psd20_ffp, psd20_pos]\n",
    "\n",
    "vn = 'heat_tot'"
   ]
  },
  {
   "cell_type": "code",
   "execution_count": 9,
   "metadata": {},
   "outputs": [],
   "source": [
    "# define function to calculate the slope of -5/3\n",
    "from scipy import stats\n",
    "def calc_slope(psd):\n",
    "    r = stats.linregress(np.log(FreqSmooth[28:-4]), np.log(psd[28:-4]))\n",
    "    return r.slope"
   ]
  },
  {
   "cell_type": "code",
   "execution_count": 23,
   "metadata": {},
   "outputs": [],
   "source": [
    "# [len(ww10[i*3+1]) for i in range(4)] #7545, 8988, 8969\n",
    "if vn in ['Ejection', 'heat_tot']:\n",
    "    ylim = 1000000\n",
    "else:\n",
    "    ylim = 10000\n",
    "def plot(ax, yr, f, psd, color):\n",
    "    ax.loglog(f, psd, color, lw=1)\n",
    "    ax.set_ylim(0.001, ylim)\n",
    "    ax.set_xlim(.001, 1.)\n",
    "\n",
    "yr = [ylim for i in range(3)]\n",
    "fig, axs = plt.subplots(1, 3, figsize=(9, 12))\n",
    "for hi in range(3):\n",
    "    ax = plt.subplot(3,1,3-hi)\n",
    "    psdpre = np.zeros(smoothlen)\n",
    "    psdffp = np.zeros(smoothlen)\n",
    "    psdpos = np.zeros(smoothlen)\n",
    "    for si in range(smoothlen):\n",
    "        psdpre[si] = psd[hi*3][smoonthloc[si]:smoonthloc[si+1]].mean()\n",
    "        psdffp[si] = psd[hi*3+1][smoonthloc[si]:smoonthloc[si+1]].mean()\n",
    "        psdpos[si] = psd[hi*3+2][smoonthloc[si]:smoonthloc[si+1]].mean()\n",
    "    plot(ax, yr[hi], FreqSmooth, psdpre, 'lime')\n",
    "    plot(ax, yr[hi], FreqSmooth, psdffp, 'r')\n",
    "    plot(ax, yr[hi], FreqSmooth, psdpos, 'k')\n",
    "    if vn == 'Inward' or vn == 'Ejection':\n",
    "        ax.loglog(FreqSmooth[28:], FreqSmooth[28:]**(-5/3) * psdpre[35] / 10, 'm--')\n",
    "        ax.loglog(FreqSmooth[28:], FreqSmooth[28:]**(-5/3) * psdffp[35] / 10, 'm--')\n",
    "    else:\n",
    "        ax.loglog(FreqSmooth[28:], FreqSmooth[28:]**(-5/3) * psdffp[28] / 50, 'm--')\n",
    "    if hi == 0:\n",
    "        plt.xlabel('Frequency ($s^{-1}$)', fontsize='large')\n",
    "    plt.ylabel('PSD ($\\u2103^{2}m^{2}s^{{-2}}$)', fontsize='large')\n",
    "    plt.legend([f'Pre-FFP ({calc_slope(psdpre):.2f}) ({slope[hi*3]:.2f})', f'FFP ({calc_slope(psdffp):.2f}) ({slope[hi*3+1]:.2f})',\n",
    "                f'Post-FFP ({calc_slope(psdpos):.2f}) ({slope[hi*3+2]:.2f})',\n",
    "                '$k^{-5/3}$'+f' ({-5/3:.2f})'], loc='upper right', frameon=False, fontsize='large')\n",
    "\n",
    "    if hi == 0:\n",
    "        plt.text(.05, .95, '3m', fontsize='large', fontweight='bold', ha='center', va='center', transform=ax.transAxes)\n",
    "    elif hi == 1:\n",
    "        plt.text(.05, .95, '10m', fontsize='large', fontweight='bold', ha='center', va='center', transform=ax.transAxes)\n",
    "    elif hi == 2:\n",
    "        plt.text(.05, .95, '19m', fontsize='large', fontweight='bold', ha='center', va='center', transform=ax.transAxes)\n",
    "plt.suptitle(f\"Power Spectrum Density of {vn}\", fontsize='x-large', fontweight='bold', x=.5, y=.98)\n",
    "plt.subplots_adjust(top = .95, bottom = .05, right = .95, left = .1, \n",
    "            hspace = .1, wspace = 0)\n",
    "plt.savefig(f'./plot/paper/spectral/PSD{vn}_Averaged_loglog_smoonthed.png', bbox_inches='tight')\n",
    "plt.close()"
   ]
  },
  {
   "cell_type": "code",
   "execution_count": 10,
   "metadata": {},
   "outputs": [],
   "source": [
    "# # [len(ww10[i*3+1]) for i in range(4)] #7545, 8988, 8969\n",
    "\n",
    "# ylim = 100000\n",
    "# def plot(ax, yr, f, psd, color):\n",
    "#     ax.loglog(f, psd, color, lw=1)\n",
    "#     ax.set_ylim(0.001, ylim)\n",
    "#     ax.set_xlim(.001, 1.)\n",
    "\n",
    "# yr = [ylim for i in range(3)]\n",
    "# fig, axs = plt.subplots(1, 3, figsize=(9, 12))\n",
    "# for hi in range(3):\n",
    "#     ax = plt.subplot(3,1,3-hi)\n",
    "#     plot(ax, yr[hi], freq, psd[hi*3], 'lime')\n",
    "#     plot(ax, yr[hi], freq, psd[1+hi*3], 'r')\n",
    "#     plot(ax, yr[hi], freq, psd[2+hi*3], 'k')\n",
    "#     if hi == 0:\n",
    "#         plt.xlabel('Frequency ($s^{-1}$)', fontsize='large')\n",
    "#     plt.ylabel('PSD ($\\u2103^{2}m^{2}s^{{-2}}$)', fontsize='large')\n",
    "#     plt.legend([f'Pre-FFP', f'FFP',\n",
    "#                 f'Post-FFP'], loc='upper right', frameon=False, fontsize='large')\n",
    "\n",
    "#     if hi == 0:\n",
    "#         plt.text(.05, .95, '3m', fontsize='large', fontweight='bold', ha='center', va='center', transform=ax.transAxes)\n",
    "#     elif hi == 1:\n",
    "#         plt.text(.05, .95, '10m', fontsize='large', fontweight='bold', ha='center', va='center', transform=ax.transAxes)\n",
    "#     elif hi == 2:\n",
    "#         plt.text(.05, .95, '19m', fontsize='large', fontweight='bold', ha='center', va='center', transform=ax.transAxes)\n",
    "# plt.suptitle(f\"Power Spectrum Density of {vn}\", fontsize='x-large', fontweight='bold', x=.5, y=.98)\n",
    "# plt.subplots_adjust(top = .95, bottom = .05, right = .95, left = .1, \n",
    "#             hspace = .1, wspace = 0)\n",
    "# plt.savefig(f'./plot/paper/spectral/PSD{vn}_Averaged_loglog.png', bbox_inches='tight')\n",
    "# plt.close()"
   ]
  },
  {
   "cell_type": "code",
   "execution_count": 11,
   "metadata": {},
   "outputs": [],
   "source": [
    "# # [len(ww10[i*3+1]) for i in range(4)] #7545, 8988, 8969\n",
    "# psd = [psd[i]/variance[i] for i in range(9)]\n",
    "\n",
    "# ylim = .1\n",
    "# def plot(ax, yr, f, psd, color):\n",
    "#     ax.semilogx(f, psd, color, lw=1)\n",
    "#     ax.set_ylim(0, ylim)\n",
    "#     ax.set_xlim(.001, 0.5)\n",
    "\n",
    "# yr = [ylim for i in range(3)]\n",
    "# fig, axs = plt.subplots(1, 3, figsize=(9, 12))\n",
    "# for hi in range(3):\n",
    "#     ax = plt.subplot(3,1,3-hi)\n",
    "#     plot(ax, yr[hi], freq, psd[hi*3], 'lime')\n",
    "#     plot(ax, yr[hi], freq, psd[1+hi*3], 'r')\n",
    "#     plot(ax, yr[hi], freq, psd[2+hi*3], 'k')\n",
    "#     if hi == 0:\n",
    "#         plt.xlabel('Frequency ($s^{-1}$)', fontsize='large')\n",
    "#     plt.ylabel('norm PSD', fontsize='large')\n",
    "#     plt.legend([f'Pre-FFP ({variance[hi*3]/len(freq):.2f} $\\u2103^{2}m^{2}s^{{-2}})$', f'FFP ({variance[hi*3+1]/len(freq):.2f} $\\u2103^{2}m^{2}s^{{-2}})$',\n",
    "#                 f'Post-FFP ({variance[hi*3+2]/len(freq):.2f} $\\u2103^{2}m^{2}s^{{-2}})$'], loc='upper right', frameon=False, fontsize='large')\n",
    "\n",
    "#     if hi == 0:\n",
    "#         plt.text(.05, .95, '3m', fontsize='large', fontweight='bold', ha='center', va='center', transform=ax.transAxes)\n",
    "#     elif hi == 1:\n",
    "#         plt.text(.05, .95, '10m', fontsize='large', fontweight='bold', ha='center', va='center', transform=ax.transAxes)\n",
    "#     elif hi == 2:\n",
    "#         plt.text(.05, .95, '19m', fontsize='large', fontweight='bold', ha='center', va='center', transform=ax.transAxes)\n",
    "# plt.suptitle(f\"Normalized Power Spectrum Density of {vn}\", fontsize='x-large', fontweight='bold', x=.5, y=.98)\n",
    "# plt.subplots_adjust(top = .95, bottom = .05, right = .95, left = .1, \n",
    "#             hspace = .1, wspace = 0)\n",
    "# plt.savefig(f'./plot/paper/spectral/PSD{vn}_Averaged_logx.png', bbox_inches='tight')\n",
    "# plt.close()"
   ]
  },
  {
   "cell_type": "markdown",
   "metadata": {},
   "source": [
    "<font size=4 color=blue>FFT for Comparison"
   ]
  },
  {
   "cell_type": "code",
   "execution_count": 37,
   "metadata": {},
   "outputs": [],
   "source": [
    "xls = pd.ExcelFile('./data/2019_West_Tower_3mAGL_Sweep_Data_for_Diane_Joey.xlsx')\n",
    "df_pre = pd.read_excel(xls, 'Pre-FFP')\n",
    "df_dur = pd.read_excel(xls, 'FFP')\n",
    "df_post = pd.read_excel(xls, 'Post-FFP')\n",
    "data = [df_pre[\"S'w' (Sweep)\"], df_dur[\"S'w' (Sweep)\"], df_post[\"S'w' (Sweep)\"]]"
   ]
  },
  {
   "cell_type": "code",
   "execution_count": 6,
   "metadata": {},
   "outputs": [],
   "source": [
    "# from spectrum import DaniellPeriodogram\n",
    "# from spectrum import WelchPeriodogram\n",
    "# i = 0\n",
    "# l = len(data[i])\n",
    "# s = FourierSpectrum(data[i], sampling=10, scale_by_freq=True, window='hanning')\n",
    "# s.periodogram()\n",
    "\n",
    "# s = DaniellPeriodogram(data[i], 8, sampling=10, detrend='mean', NFFT=l, window='hamming')\n",
    "# s = WelchPeriodogram(data[i], sampling=10, detrend='mean')"
   ]
  },
  {
   "cell_type": "code",
   "execution_count": 3,
   "metadata": {},
   "outputs": [],
   "source": [
    "# f = s.frequencies()\n",
    "# psd = s.psd\n",
    "\n",
    "# Y = (np.array(f) ** (-5/3))\n",
    "\n",
    "# plt.semilogx(f, psd, f, Y)\n",
    "\n",
    "# plt.loglog(s[0][1], s[0][0], 'k-', f[500:], Y[500:]/50, 'r-')"
   ]
  },
  {
   "cell_type": "code",
   "execution_count": 41,
   "metadata": {},
   "outputs": [
    {
     "data": {
      "text/plain": [
       "<matplotlib.legend.Legend at 0x7f35cbab6490>"
      ]
     },
     "execution_count": 41,
     "metadata": {},
     "output_type": "execute_result"
    },
    {
     "data": {
      "image/png": "[encoded data removed]",
      "text/plain": [
       "<Figure size 576x432 with 1 Axes>"
      ]
     },
     "metadata": {
      "needs_background": "light"
     },
     "output_type": "display_data"
    }
   ],
   "source": [
    "color = ['lime', 'r', 'k']\n",
    "fig, ax = plt.subplots(1, 1, figsize=(8, 6))\n",
    "for i in range(3):\n",
    "    f, ps, psd = spectrum1(data[i], .1)\n",
    "    ax.semilogx(f, psd, color[i], lw=1)\n",
    "ax.set_ylim(0, 170)\n",
    "ax.set_xlim(.001, 1)\n",
    "ax.set_ylabel('Power Spectral Density', fontsize='large', fontweight='bold')\n",
    "ax.set_xlabel('Frequency', fontsize='large', fontweight='bold')\n",
    "ax.set_title('Momentum Flux Sweep Spectra West Tower: 3m AGL', fontweight='bold', fontsize='large')\n",
    "ax.legend(['Pre-FFP', 'FFP', 'Post-FFP'], fontsize='large')"
   ]
  },
  {
   "cell_type": "code",
   "execution_count": 10,
   "metadata": {},
   "outputs": [],
   "source": [
    "# from spectrum import WelchPeriodogram\n",
    "# title = ['Pre-FFP', 'FFP', 'Post-FFP']\n",
    "# fig, axs = plt.subplots(1, 3, figsize=(15, 4))\n",
    "# for i in range(3):\n",
    "#     ax = plt.subplot(1,3,i+1)\n",
    "#     s = WelchPeriodogram(data[i], sampling=10, detrend='mean', label='_nolegend_')\n",
    "#     Y = (np.array(s[0][1]) ** (-5/3))\n",
    "#     ax.loglog(s[0][1], s[0][0], 'k-', s[0][1], Y/100, 'r--')\n",
    "#     plt.title(title[i], fontweight='bold')\n",
    "#     ax.legend(['3m Sweep', '$k^{-5/3}$'])"
   ]
  },
  {
   "cell_type": "code",
   "execution_count": 21,
   "metadata": {},
   "outputs": [
    {
     "data": {
      "text/plain": [
       "(73.69497136168958, 73.6949655253304)"
      ]
     },
     "execution_count": 21,
     "metadata": {},
     "output_type": "execute_result"
    }
   ],
   "source": [
    "df = pd.read_table('./test.txt', delim_whitespace=True, names=('index', 'value'))\n",
    "f, ps, psd = spectrum1(df.value.values, 1)\n",
    "ps.sum()+df.value.values.mean()**2, np.nanvar(df.value.values)\n",
    "# psd.sum() / 64\n",
    "# (ps / ps.sum()).sum()\n",
    "# df"
   ]
  },
  {
   "cell_type": "code",
   "execution_count": 31,
   "metadata": {},
   "outputs": [
    {
     "data": {
      "text/plain": [
       "73.84886023132125"
      ]
     },
     "execution_count": 31,
     "metadata": {},
     "output_type": "execute_result"
    }
   ],
   "source": [
    "power = LombScargle(df.index.values, df.value.values, normalization='psd').power(f)\n",
    "np.nansum(power) *2 / 63"
   ]
  },
  {
   "cell_type": "code",
   "execution_count": 73,
   "metadata": {},
   "outputs": [
    {
     "data": {
      "text/plain": [
       "(0.041015705452555874, 0.04100361740764172, 18000)"
      ]
     },
     "execution_count": 73,
     "metadata": {},
     "output_type": "execute_result"
    }
   ],
   "source": [
    "freq = np.linspace(0, 5, 9000)\n",
    "ti = 0\n",
    "power = LombScargle(CumSec3[ti*3+2], Ejection3[2+3*ti], normalization='psd').power(freq)\n",
    "np.nansum(power) / len(freq), np.nanvar(Ejection3[2+3*ti]), len(Ejection3[2+3*ti])"
   ]
  },
  {
   "cell_type": "markdown",
   "metadata": {},
   "source": [
    "### Test Lomb-Scargle Periodograms program"
   ]
  },
  {
   "cell_type": "code",
   "execution_count": 3,
   "metadata": {},
   "outputs": [
    {
     "data": {
      "text/plain": [
       "(array([0., 4., 1., 1., 4., 4., 1., 1.]),\n",
       " array([ 1.,  4.,  4.,  1.,  9., 16.,  4.,  1.]))"
      ]
     },
     "execution_count": 3,
     "metadata": {},
     "output_type": "execute_result"
    }
   ],
   "source": [
    "w = np.array([0, -2, -1, 1, -2, 2, 1, 1])\n",
    "q = np.array([8, 9, 9, 6, 10, 3, 5, 6])\n",
    "ww = w - w.mean()\n",
    "qq = q - q.mean()\n",
    "ww**2, qq**2"
   ]
  },
  {
   "cell_type": "code",
   "execution_count": 4,
   "metadata": {},
   "outputs": [],
   "source": [
    "wfft = np.fft.fft(w) / 8.\n",
    "qfft = np.fft.fft(q) / 8.\n",
    "freq = np.fft.fftfreq(8)[:4]\n",
    "# plt.loglog(freq, (abs(wfft) ** 2)[:4])"
   ]
  },
  {
   "cell_type": "code",
   "execution_count": 7,
   "metadata": {},
   "outputs": [
    {
     "data": {
      "text/plain": [
       "(-2.5, -3.0)"
      ]
     },
     "execution_count": 7,
     "metadata": {},
     "output_type": "execute_result"
    }
   ],
   "source": [
    "Co = wfft.real * qfft.real + wfft.imag * qfft.imag\n",
    "Qu = wfft.imag * qfft.real - wfft.real * qfft.imag\n",
    "Co[:4].sum()*2, (ww*qq).mean()\n",
    "# np.arctan(Qu/Co) * 180 / np.pi + 180\n",
    "# Co"
   ]
  },
  {
   "cell_type": "code",
   "execution_count": 46,
   "metadata": {},
   "outputs": [],
   "source": [
    "def get_cospectra(a, b, n):\n",
    "    afft = np.fft.fft(a, n=n) / len(a)\n",
    "    bfft = np.fft.fft(b, n=n) / len(b)\n",
    "    Co = afft.real * bfft.real + afft.imag * bfft.imag\n",
    "    Qu = afft.imag * bfft.real - afft.real * bfft.imag\n",
    "    return Co, Qu"
   ]
  },
  {
   "cell_type": "code",
   "execution_count": 50,
   "metadata": {},
   "outputs": [],
   "source": [
    "dfpre = pd.read_csv('./data/East_Pre-FFP.csv')\n",
    "dfffp = pd.read_csv('./data/East_FFP.csv')\n",
    "dfpos = pd.read_csv('./data/East_Post-FFP.csv')\n",
    "# dfpre"
   ]
  },
  {
   "cell_type": "code",
   "execution_count": 51,
   "metadata": {},
   "outputs": [],
   "source": [
    "preffp_Co, prefft_Qu = get_cospectra(dfpre['W_20m']-dfpre['W_20m'].mean(), dfpre['T_20m']-dfpre['T_20m'].mean(), 18000)\n",
    "ffp_Co, fft_Qu = get_cospectra(dfffp['W_20m']-dfpre['W_20m'].mean(), dfffp['T_20m']-dfpre['T_20m'].mean(), 18000)\n",
    "posffp_Co, posfft_Qu = get_cospectra(dfpos['W_20m']-dfpos['W_20m'].mean(), dfpos['T_20m']-dfpos['T_20m'].mean(), 18000)"
   ]
  },
  {
   "cell_type": "code",
   "execution_count": 34,
   "metadata": {},
   "outputs": [],
   "source": [
    "freq1 = np.fft.fftfreq(18000, d=0.1)[:9000]\n",
    "freq2 = np.fft.fftfreq(9000, d=0.1)[:4500]"
   ]
  },
  {
   "cell_type": "code",
   "execution_count": 52,
   "metadata": {},
   "outputs": [],
   "source": [
    "Co1 = np.where(preffp_Co[:9000]>0, preffp_Co[:9000], np.nan)\n",
    "Co2 = np.where(ffp_Co[:9000]>0, ffp_Co[:9000], np.nan)\n",
    "Co3 = np.where(posffp_Co[:9000]>0, posffp_Co[:9000], np.nan)"
   ]
  },
  {
   "cell_type": "code",
   "execution_count": 108,
   "metadata": {},
   "outputs": [
    {
     "data": {
      "text/plain": [
       "Text(0.5, 1.0, \"Cospectrum of w' and t' (total heat flux) at East Tower at 19m\")"
      ]
     },
     "execution_count": 108,
     "metadata": {},
     "output_type": "execute_result"
    },
    {
     "data": {
      "image/png": "[encoded data removed]",
      "text/plain": [
       "<Figure size 576x432 with 1 Axes>"
      ]
     },
     "metadata": {
      "needs_background": "light"
     },
     "output_type": "display_data"
    }
   ],
   "source": [
    "fig, axs = plt.subplots(1, 1, figsize=(8, 6))\n",
    "plt.loglog(freq1, Co1, color='lime', lw=.5)\n",
    "plt.loglog(freq2, Co2, color='r', lw=.5, alpha=.7)\n",
    "plt.loglog(freq1, Co3, color='k', lw=.5, alpha=.8)\n",
    "plt.loglog(freq1[np.where(freq1>.1)[0][0]:], freq1[np.where(freq1>.1)[0][0]:]**(-7/3) / 100000, 'm--')\n",
    "plt.loglog(freq1[np.where(freq1>.1)[0][0]:], freq1[np.where(freq1>.1)[0][0]:]**(-5/3) / 100000, 'c--')\n",
    "plt.legend(['Pre-FFP', 'FFP', 'Post-FFP', '$k^{-7/3}$', '$k^{-5/3}$'], fontsize='large')\n",
    "plt.title(\"Cospectrum of w' and t' (total heat flux) at East Tower at 19m\", fontsize='large', fontweight='bold')"
   ]
  },
  {
   "cell_type": "code",
   "execution_count": 59,
   "metadata": {},
   "outputs": [
    {
     "data": {
      "text/plain": [
       "array([False, False, False,  True])"
      ]
     },
     "execution_count": 59,
     "metadata": {},
     "output_type": "execute_result"
    }
   ],
   "source": [
    "np.isnan(np.array([1,2,3,np.nan]))"
   ]
  }
 ],
 "metadata": {
  "kernelspec": {
   "display_name": "Python 3",
   "language": "python",
   "name": "python3"
  },
  "language_info": {
   "codemirror_mode": {
    "name": "ipython",
    "version": 3
   },
   "file_extension": ".py",
   "mimetype": "text/x-python",
   "name": "python",
   "nbconvert_exporter": "python",
   "pygments_lexer": "ipython3",
   "version": "3.8.3"
  }
 },
 "nbformat": 4,
 "nbformat_minor": 4
}
