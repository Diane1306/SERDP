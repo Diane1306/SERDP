{
 "cells": [
  {
   "cell_type": "code",
   "execution_count": 1,
   "metadata": {},
   "outputs": [],
   "source": [
    "import pandas as pd\n",
    "import numpy as np\n",
    "import os\n",
    "import matplotlib.pyplot as plt\n",
    "from scipy import signal\n",
    "from spectrum import FourierSpectrum"
   ]
  },
  {
   "cell_type": "code",
   "execution_count": 10,
   "metadata": {},
   "outputs": [],
   "source": [
    "DIR = './data/PeriodMean/20m'\n",
    "fna = [name for name in os.listdir(DIR)]\n",
    "fna.sort()\n",
    "fno = len(fna)\n",
    "tower = ['East', 'Flux', 'North', 'South', 'West']\n",
    "\n",
    "ww20 = []\n",
    "tt20 = []\n",
    "Sweep20 = []\n",
    "Ejection20 = []\n",
    "Outward20 = []\n",
    "Inward20 = []\n",
    "CumSec20 = []\n",
    "\n",
    "for fi in range(5):\n",
    "    xls = pd.ExcelFile(f'./data/PeriodMean/20m/{fna[fi]}')\n",
    "    df_pre = pd.read_excel(xls, 'Pre-FFP')\n",
    "    df_dur = pd.read_excel(xls, 'FFP')\n",
    "    df_post = pd.read_excel(xls, 'Post-FFP')\n",
    "\n",
    "    df = [df_pre, df_dur, df_post]\n",
    "    for di in range(3):\n",
    "        ww20.append(df[di][\"w' (m/s)\"].dropna())\n",
    "        tt20.append(df[di][\"t' (C)\"].dropna())\n",
    "        Sweep20.append(df[di][\"w't' (Sweep)\"].dropna())\n",
    "        Ejection20.append(df[di][\"w't' (Ejection)\"].dropna())\n",
    "        Outward20.append(df[di][\"w't' (Out Int)\"].dropna())\n",
    "        Inward20.append(df[di][\"w't' (In Int)\"].dropna())\n",
    "        CumSec20.append(df[di].iloc[:, 0].dropna())"
   ]
  },
  {
   "cell_type": "code",
   "execution_count": 11,
   "metadata": {},
   "outputs": [],
   "source": [
    "DIR = './data/PeriodMean/3m'\n",
    "fna = [name for name in os.listdir(DIR)]\n",
    "fna.sort()\n",
    "fno = len(fna)\n",
    "tower = ['East', 'Flux', 'North', 'South', 'West']\n",
    "\n",
    "ww3 = []\n",
    "tt3 = []\n",
    "Sweep3 = []\n",
    "Ejection3 = []\n",
    "Outward3 = []\n",
    "Inward3 = []\n",
    "CumSec3 = []\n",
    "for fi in range(5):\n",
    "    xls = pd.ExcelFile(f'./data/PeriodMean/3m/{fna[fi]}')\n",
    "    df_pre = pd.read_excel(xls, 'Pre-FFP')\n",
    "    df_dur = pd.read_excel(xls, 'FFP')\n",
    "    df_post = pd.read_excel(xls, 'Post-FFP')\n",
    "\n",
    "    df = [df_pre, df_dur, df_post]\n",
    "    for di in range(3):\n",
    "        ww3.append(df[di][\"w' (m/s)\"].dropna())\n",
    "        tt3.append(df[di][\"t' (C)\"].dropna())\n",
    "        Sweep3.append(df[di][\"w't' (Sweep)\"].dropna())\n",
    "        Ejection3.append(df[di][\"w't' (Ejection)\"].dropna())\n",
    "        Outward3.append(df[di][\"w't' (Out Int)\"].dropna())\n",
    "        Inward3.append(df[di][\"w't' (In Int)\"].dropna())\n",
    "        CumSec3.append(df[di].iloc[:, 0].dropna())"
   ]
  },
  {
   "cell_type": "code",
   "execution_count": 12,
   "metadata": {},
   "outputs": [],
   "source": [
    "DIR = './data/PeriodMean/10m'\n",
    "fna = [name for name in os.listdir(DIR)]\n",
    "fna.sort()\n",
    "fno = len(fna)\n",
    "tower = ['East', 'Flux', 'North', 'West']\n",
    "\n",
    "ww10 = []\n",
    "tt10 = []\n",
    "Sweep10 = []\n",
    "Ejection10 = []\n",
    "Outward10 = []\n",
    "Inward10 = []\n",
    "CumSec10 = []\n",
    "for fi in range(4):\n",
    "    xls = pd.ExcelFile(f'./data/PeriodMean/10m/{fna[fi]}')\n",
    "    df_pre = pd.read_excel(xls, 'Pre-FFP')\n",
    "    df_dur = pd.read_excel(xls, 'FFP')\n",
    "    df_post = pd.read_excel(xls, 'Post-FFP')\n",
    "\n",
    "    df = [df_pre, df_dur, df_post]\n",
    "    for di in range(3):\n",
    "        ww10.append(df[di][\"w' (m/s)\"].dropna())\n",
    "        tt10.append(df[di][\"t' (C)\"].dropna())\n",
    "        Sweep10.append(df[di][\"w't' (Sweep)\"].dropna())\n",
    "        Ejection10.append(df[di][\"w't' (Ejection)\"].dropna())\n",
    "        Outward10.append(df[di][\"w't' (Out Int)\"].dropna())\n",
    "        Inward10.append(df[di][\"w't' (In Int)\"].dropna())\n",
    "        CumSec10.append(df[di].iloc[:, 0].dropna())"
   ]
  },
  {
   "cell_type": "code",
   "execution_count": 2,
   "metadata": {},
   "outputs": [],
   "source": [
    "def spectrum1(h, dt):\n",
    "    \"\"\"\n",
    "    First cut at spectral estimation: very crude.\n",
    "    \n",
    "    Returns frequencies, power spectrum, and\n",
    "    power spectral density.\n",
    "    Only positive frequencies between (and not including)\n",
    "    zero and the Nyquist are output.\n",
    "    \"\"\"\n",
    "    nt = len(h)\n",
    "    npositive = nt//2\n",
    "    pslice = slice(1, npositive)\n",
    "    freqs = np.fft.fftfreq(nt, d=dt)[pslice] \n",
    "    ft = np.fft.fft(h)[pslice]\n",
    "    psraw = np.abs(ft) ** 2\n",
    "    # Double to account for the energy in the negative frequencies.\n",
    "    psraw *= 2\n",
    "    # Normalization for Power Spectrum\n",
    "    psraw /= nt**2\n",
    "    # Convert PS to Power Spectral Density\n",
    "    psdraw = psraw * nt  # nt * dt is record length\n",
    "    return freqs, psraw, psdraw"
   ]
  },
  {
   "cell_type": "code",
   "execution_count": 27,
   "metadata": {},
   "outputs": [],
   "source": [
    "from astropy.timeseries import LombScargle\n",
    "freq = np.linspace(0, 5, 9000)\n",
    "def plot(ax, yr, time, data, color):\n",
    "    power = LombScargle(time, data, normalization='psd').power(freq)\n",
    "    ax.semilogx(freq, power, color, lw=1)\n",
    "    ax.set_ylim(0, yr)\n",
    "    ax.set_xlim(.001, 1)\n",
    "    ax.legend(['Pre-FFP', 'FFP', 'Post-FFP'], fontsize='large')\n",
    "    \n",
    "fig, axs = plt.subplots(5, 3, figsize=(15, 25))\n",
    "tower = ['East', 'Flux', 'North', 'South', 'West']\n",
    "Outward = [Outward3, Outward10, Outward20]\n",
    "CumSec = [CumSec3, CumSec10, CumSec20]\n",
    "title = ['Outward']\n",
    "yr = 100\n",
    "for ti in range(5):\n",
    "    for hi in range(3):\n",
    "        ax = plt.subplot(5,3,ti*3+hi+1)\n",
    "        if (hi==1) and (ti==4):\n",
    "#             plot(ax, yr, np.where(abs(Outward[hi][(ti-1)*3+0])>0.000001, 1, 0), 'lime') \n",
    "#             plot(ax, yr, np.where(abs(Outward[hi][(ti-1)*3+1])>0.000001, 1, 0), 'r') \n",
    "#             plot(ax, yr, np.where(abs(Outward[hi][(ti-1)*3+2])>0.000001, 1, 0), 'k')\n",
    "            plot(ax, yr, CumSec[hi][(ti-1)*3+0], Outward[hi][(ti-1)*3+0], 'lime') \n",
    "            plot(ax, yr, CumSec[hi][(ti-1)*3+1], Outward[hi][(ti-1)*3+1], 'r') \n",
    "            plot(ax, yr, CumSec[hi][(ti-1)*3+2], Outward[hi][(ti-1)*3+2], 'k')\n",
    "        elif (hi==1) and (ti==3):\n",
    "            plot(ax, yr, np.nan*CumSec[hi][(ti-1)*3+0], np.nan*Outward[hi][(ti-1)*3+0], 'k')\n",
    "        else:\n",
    "#             plot(ax, yr, np.where(abs(Outward[hi][ti*3+0])>0.000001, 1, 0), 'lime') \n",
    "#             plot(ax, yr, np.where(abs(Outward[hi][ti*3+1])>0.000001, 1, 0), 'r') \n",
    "#             plot(ax, yr, np.where(abs(Outward[hi][ti*3+2])>0.000001, 1, 0), 'k')\n",
    "            plot(ax, yr, CumSec[hi][ti*3+0], Outward[hi][ti*3+0], 'lime') \n",
    "            plot(ax, yr, CumSec[hi][ti*3+1], Outward[hi][ti*3+1], 'r') \n",
    "            plot(ax, yr, CumSec[hi][ti*3+2], Outward[hi][ti*3+2], 'k')\n",
    "        \n",
    "        if hi == 0:\n",
    "            ax.set_ylabel('Power Spectral Density', fontsize='large', fontweight='bold')\n",
    "        if ti == 4:\n",
    "            ax.set_xlabel('Frequency', fontsize='large', fontweight='bold')\n",
    "                    \n",
    "        if ti == 0:\n",
    "            if hi == 0:\n",
    "                plt.text(.5, 1.03, '3m', fontsize='large', fontweight='bold', ha='center', va='center', transform=ax.transAxes)\n",
    "            elif hi == 1:\n",
    "                plt.text(.5, 1.03, '10m', fontsize='large', fontweight='bold', ha='center', va='center', transform=ax.transAxes)\n",
    "            elif hi == 2:\n",
    "                plt.text(.5, 1.03, '20m', fontsize='large', fontweight='bold', ha='center', va='center', transform=ax.transAxes)\n",
    "        if hi == 2:\n",
    "            plt.text(1.05, .9, tower[ti], fontsize='large', fontweight='bold', ha='center', va='center', transform=ax.transAxes)\n",
    "\n",
    "plt.subplots_adjust(top = 1, bottom = 0, right = 1, left = 0, hspace = .1, wspace = .1)\n",
    "# plt.suptitle(f\"Power Spectrum Density of {title[0]} Occurrences\", fontsize=15, fontweight='bold', x=.5, y=1.02)\n",
    "# plt.savefig(f'./plot/paper/spectral/PSD_Occur_{title[0]}.png', bbox_inches='tight')\n",
    "plt.suptitle(f\"Power Spectrum Density of {title[0]}\", fontsize=15, fontweight='bold', x=.5, y=1.02)\n",
    "plt.savefig(f'./plot/paper/spectral/PSD_Value_{title[0]}.png', bbox_inches='tight')"
   ]
  },
  {
   "cell_type": "code",
   "execution_count": 67,
   "metadata": {},
   "outputs": [
    {
     "name": "stderr",
     "output_type": "stream",
     "text": [
      "/home/msuclass9/envs/lib/python3.8/site-packages/astropy/timeseries/periodograms/lombscargle/implementations/fast_impl.py:93: RuntimeWarning: invalid value encountered in true_divide\n",
      "  tan_2omega_tau = (S2 - 2 * S * C) / (C2 - (C * C - S * S))\n",
      "/home/msuclass9/envs/lib/python3.8/site-packages/astropy/timeseries/periodograms/lombscargle/implementations/fast_impl.py:122: RuntimeWarning: divide by zero encountered in true_divide\n",
      "  power = (YC * YC / CC + YS * YS / SS)\n",
      "/home/msuclass9/envs/lib/python3.8/site-packages/astropy/timeseries/periodograms/lombscargle/implementations/fast_impl.py:122: RuntimeWarning: invalid value encountered in true_divide\n",
      "  power = (YC * YC / CC + YS * YS / SS)\n"
     ]
    }
   ],
   "source": [
    "psd3_pre = 0\n",
    "psd3_ffp = 0\n",
    "psd3_pos = 0\n",
    "for ti in range(5):\n",
    "    psdtemp = LombScargle(CumSec3[ti*3+0], Outward3[0+3*ti], normalization='psd').power(freq)\n",
    "    psd3_pre += psdtemp\n",
    "    psdtemp = LombScargle(CumSec3[ti*3+1], Outward3[1+3*ti], normalization='psd').power(freq)\n",
    "    psd3_ffp += psdtemp\n",
    "    psdtemp = LombScargle(CumSec3[ti*3+2], Outward3[2+3*ti], normalization='psd').power(freq)\n",
    "    psd3_pos += psdtemp\n",
    "psd3_pre = psd3_pre/5.\n",
    "psd3_ffp = psd3_ffp/5.\n",
    "psd3_pos = psd3_pos/5.\n",
    "\n",
    "psd10_pre = 0\n",
    "psd10_ffp = 0\n",
    "psd10_pos = 0\n",
    "for ti in range(4):\n",
    "    psdtemp = LombScargle(CumSec10[ti*3+0], Outward10[0+3*ti], normalization='psd').power(freq)\n",
    "    psd10_pre += psdtemp\n",
    "    psdtemp = LombScargle(CumSec10[ti*3+1], Outward10[1+3*ti], normalization='psd').power(freq)\n",
    "    psd10_ffp += psdtemp\n",
    "    psdtemp = LombScargle(CumSec10[ti*3+2], Outward10[2+3*ti], normalization='psd').power(freq)\n",
    "    psd10_pos += psdtemp\n",
    "psd10_pre = psd10_pre/4.\n",
    "psd10_ffp = psd10_ffp/4.\n",
    "psd10_pos = psd10_pos/4.\n",
    "\n",
    "psd20_pre = 0\n",
    "psd20_ffp = 0\n",
    "psd20_pos = 0\n",
    "for ti in range(5):\n",
    "    psdtemp = LombScargle(CumSec20[ti*3+0], Outward20[0+3*ti], normalization='psd').power(freq)\n",
    "    psd20_pre += psdtemp\n",
    "    psdtemp = LombScargle(CumSec20[ti*3+1], Outward20[1+3*ti], normalization='psd').power(freq)\n",
    "    psd20_ffp += psdtemp\n",
    "    psdtemp = LombScargle(CumSec20[ti*3+2], Outward20[2+3*ti], normalization='psd').power(freq)\n",
    "    psd20_pos += psdtemp\n",
    "psd20_pre = psd20_pre/5.\n",
    "psd20_ffp = psd20_ffp/5.\n",
    "psd20_pos = psd20_pos/5."
   ]
  },
  {
   "cell_type": "code",
   "execution_count": 68,
   "metadata": {},
   "outputs": [],
   "source": [
    "# [len(ww10[i*3+1]) for i in range(4)] #7545, 8988, 8969\n",
    "\n",
    "psd = [psd3_pre, psd3_ffp, psd3_pos, psd10_pre, psd10_ffp, psd10_pos, psd20_pre, psd20_ffp, psd20_pos]\n",
    "\n",
    "ylim = 30\n",
    "def plot(ax, yr, f, psd, color):\n",
    "    ax.loglog(f, psd, color, lw=1)\n",
    "    ax.set_ylim(.001, ylim)\n",
    "    ax.set_xlim(.001, 1)\n",
    "\n",
    "yr = [ylim for i in range(3)]\n",
    "fig, axs = plt.subplots(1, 3, figsize=(9, 12))\n",
    "for hi in range(3):\n",
    "    ax = plt.subplot(3,1,3-hi)\n",
    "    plot(ax, yr[hi], freq, psd[hi*3], 'lime')\n",
    "    plot(ax, yr[hi], freq, psd[1+hi*3], 'r')\n",
    "    plot(ax, yr[hi], freq, psd[2+hi*3], 'k')\n",
    "    if hi == 0:\n",
    "        plt.xlabel('Frequency ($s^{-1}$)', fontsize='large')\n",
    "    plt.ylabel('PSD $(\\u2103^{2}m^{2}s^{-2})$', fontsize='large')\n",
    "    plt.legend(['Pre-FFP', 'FFP', 'Post-FFP'], loc='upper right', frameon=False, fontsize='large')\n",
    "\n",
    "    if hi == 0:\n",
    "        plt.text(.05, .95, '3m', fontsize='large', fontweight='bold', ha='center', va='center', transform=ax.transAxes)\n",
    "    elif hi == 1:\n",
    "        plt.text(.05, .95, '10m', fontsize='large', fontweight='bold', ha='center', va='center', transform=ax.transAxes)\n",
    "    elif hi == 2:\n",
    "        plt.text(.05, .95, '19m', fontsize='large', fontweight='bold', ha='center', va='center', transform=ax.transAxes)\n",
    "plt.suptitle(\"Power Spectrum Density of Outward\", fontsize='x-large', fontweight='bold', x=.5, y=.98)\n",
    "plt.subplots_adjust(top = .95, bottom = .05, right = .95, left = .1, \n",
    "            hspace = .1, wspace = 0)\n",
    "plt.savefig('./plot/paper/spectral/PSDOutward_Averaged_loglog.png')\n",
    "plt.close()"
   ]
  },
  {
   "cell_type": "markdown",
   "metadata": {},
   "source": [
    "<font size=4 color=blue>FFT for Comparison"
   ]
  },
  {
   "cell_type": "code",
   "execution_count": 37,
   "metadata": {},
   "outputs": [],
   "source": [
    "xls = pd.ExcelFile('./data/2019_West_Tower_3mAGL_Sweep_Data_for_Diane_Joey.xlsx')\n",
    "df_pre = pd.read_excel(xls, 'Pre-FFP')\n",
    "df_dur = pd.read_excel(xls, 'FFP')\n",
    "df_post = pd.read_excel(xls, 'Post-FFP')\n",
    "data = [df_pre[\"S'w' (Sweep)\"], df_dur[\"S'w' (Sweep)\"], df_post[\"S'w' (Sweep)\"]]"
   ]
  },
  {
   "cell_type": "code",
   "execution_count": 6,
   "metadata": {},
   "outputs": [],
   "source": [
    "# from spectrum import DaniellPeriodogram\n",
    "# from spectrum import WelchPeriodogram\n",
    "# i = 0\n",
    "# l = len(data[i])\n",
    "# s = FourierSpectrum(data[i], sampling=10, scale_by_freq=True, window='hanning')\n",
    "# s.periodogram()\n",
    "\n",
    "# s = DaniellPeriodogram(data[i], 8, sampling=10, detrend='mean', NFFT=l, window='hamming')\n",
    "# s = WelchPeriodogram(data[i], sampling=10, detrend='mean')"
   ]
  },
  {
   "cell_type": "code",
   "execution_count": 3,
   "metadata": {},
   "outputs": [],
   "source": [
    "# f = s.frequencies()\n",
    "# psd = s.psd\n",
    "\n",
    "# Y = (np.array(f) ** (-5/3))\n",
    "\n",
    "# plt.semilogx(f, psd, f, Y)\n",
    "\n",
    "# plt.loglog(s[0][1], s[0][0], 'k-', f[500:], Y[500:]/50, 'r-')"
   ]
  },
  {
   "cell_type": "code",
   "execution_count": 41,
   "metadata": {},
   "outputs": [
    {
     "data": {
      "text/plain": [
       "<matplotlib.legend.Legend at 0x7f35cbab6490>"
      ]
     },
     "execution_count": 41,
     "metadata": {},
     "output_type": "execute_result"
    },
    {
     "data": {
      "image/png": "[encoded data removed]",
      "text/plain": [
       "<Figure size 576x432 with 1 Axes>"
      ]
     },
     "metadata": {
      "needs_background": "light"
     },
     "output_type": "display_data"
    }
   ],
   "source": [
    "color = ['lime', 'r', 'k']\n",
    "fig, ax = plt.subplots(1, 1, figsize=(8, 6))\n",
    "for i in range(3):\n",
    "    f, ps, psd = spectrum1(data[i], .1)\n",
    "    ax.semilogx(f, psd, color[i], lw=1)\n",
    "ax.set_ylim(0, 170)\n",
    "ax.set_xlim(.001, 1)\n",
    "ax.set_ylabel('Power Spectral Density', fontsize='large', fontweight='bold')\n",
    "ax.set_xlabel('Frequency', fontsize='large', fontweight='bold')\n",
    "ax.set_title('Momentum Flux Sweep Spectra West Tower: 3m AGL', fontweight='bold', fontsize='large')\n",
    "ax.legend(['Pre-FFP', 'FFP', 'Post-FFP'], fontsize='large')"
   ]
  },
  {
   "cell_type": "code",
   "execution_count": 10,
   "metadata": {},
   "outputs": [],
   "source": [
    "# from spectrum import WelchPeriodogram\n",
    "# title = ['Pre-FFP', 'FFP', 'Post-FFP']\n",
    "# fig, axs = plt.subplots(1, 3, figsize=(15, 4))\n",
    "# for i in range(3):\n",
    "#     ax = plt.subplot(1,3,i+1)\n",
    "#     s = WelchPeriodogram(data[i], sampling=10, detrend='mean', label='_nolegend_')\n",
    "#     Y = (np.array(s[0][1]) ** (-5/3))\n",
    "#     ax.loglog(s[0][1], s[0][0], 'k-', s[0][1], Y/100, 'r--')\n",
    "#     plt.title(title[i], fontweight='bold')\n",
    "#     ax.legend(['3m Sweep', '$k^{-5/3}$'])"
   ]
  },
  {
   "cell_type": "code",
   "execution_count": 11,
   "metadata": {},
   "outputs": [
    {
     "data": {
      "text/plain": [
       "72.69497179020682"
      ]
     },
     "execution_count": 11,
     "metadata": {},
     "output_type": "execute_result"
    }
   ],
   "source": [
    "df = pd.read_table('./test.txt', delim_whitespace=True, names=('index', 'value'))\n",
    "f, ps, psd = spectrum1(df.value.values, 1)\n",
    "ps.sum()\n",
    "# (ps / ps.sum()).sum()"
   ]
  },
  {
   "cell_type": "markdown",
   "metadata": {},
   "source": [
    "### Test Lomb-Scargle Periodograms program"
   ]
  },
  {
   "cell_type": "code",
   "execution_count": 51,
   "metadata": {},
   "outputs": [],
   "source": [
    "# xls = pd.ExcelFile('./data/PeriodMean/3m/2019_Flux_Tower-fft_3mAGL.xlsx')\n",
    "# df_pre = pd.read_excel(xls, 'Pre-FFP')\n",
    "# df_ffp = pd.read_excel(xls, 'FFP')\n",
    "# df_pos = pd.read_excel(xls, 'Post-FFP')"
   ]
  },
  {
   "cell_type": "code",
   "execution_count": 13,
   "metadata": {},
   "outputs": [],
   "source": [
    "# df1 = df_ffp.iloc[:, 0:6].dropna()\n",
    "# index = (df1['Cum. Sec.'].dropna() * 10).astype(int)\n",
    "# l = len(index)\n",
    "# new_index = np.arange(index[0], index[l-1]+1)\n",
    "# df1['index'] = index\n",
    "# df1 = df1.set_index('index').reindex(new_index).reset_index()\n",
    "# df1"
   ]
  },
  {
   "cell_type": "code",
   "execution_count": 52,
   "metadata": {},
   "outputs": [],
   "source": [
    "# t = np.array(df_ffp['T (C)'].dropna() - df_pre['T (C)'].mean())\n",
    "# w = np.array(df_ffp['W (m/s)'].dropna() - df_pre['W (m/s)'].mean())"
   ]
  },
  {
   "cell_type": "code",
   "execution_count": 53,
   "metadata": {},
   "outputs": [],
   "source": [
    "# mask = np.where(np.isnan(t), True, False)\n",
    "# sweep = np.where(np.logical_and(w<0, t<0), w*t, 0)\n",
    "# sweep[mask] = np.nan"
   ]
  },
  {
   "cell_type": "code",
   "execution_count": 55,
   "metadata": {},
   "outputs": [
    {
     "name": "stderr",
     "output_type": "stream",
     "text": [
      "/home/msuclass9/envs/lib/python3.8/site-packages/astropy/timeseries/periodograms/lombscargle/implementations/fast_impl.py:93: RuntimeWarning: invalid value encountered in true_divide\n",
      "  tan_2omega_tau = (S2 - 2 * S * C) / (C2 - (C * C - S * S))\n"
     ]
    }
   ],
   "source": [
    "from astropy.timeseries import LombScargle\n",
    "freq = np.linspace(0, 5, 9000)\n",
    "power = LombScargle(df_ffp['Cum. Sec.'].dropna(), sweep, normalization='psd').power(freq)"
   ]
  },
  {
   "cell_type": "code",
   "execution_count": 56,
   "metadata": {},
   "outputs": [
    {
     "data": {
      "text/plain": [
       "[<matplotlib.lines.Line2D at 0x7fe646341b20>]"
      ]
     },
     "execution_count": 56,
     "metadata": {},
     "output_type": "execute_result"
    },
    {
     "data": {
      "image/png": "[encoded data removed]",
      "text/plain": [
       "<Figure size 432x288 with 1 Axes>"
      ]
     },
     "metadata": {
      "needs_background": "light"
     },
     "output_type": "display_data"
    }
   ],
   "source": [
    "plt.semilogx(freq, power)"
   ]
  }
 ],
 "metadata": {
  "kernelspec": {
   "display_name": "Python 3",
   "language": "python",
   "name": "python3"
  },
  "language_info": {
   "codemirror_mode": {
    "name": "ipython",
    "version": 3
   },
   "file_extension": ".py",
   "mimetype": "text/x-python",
   "name": "python",
   "nbconvert_exporter": "python",
   "pygments_lexer": "ipython3",
   "version": "3.8.3"
  }
 },
 "nbformat": 4,
 "nbformat_minor": 4
}
